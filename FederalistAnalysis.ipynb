{
 "cells": [
  {
   "cell_type": "markdown",
   "metadata": {},
   "source": [
    "![Pic](AuthorshipTitle.png)\n",
    "\n",
    "\n",
    "## Background\n",
    "We often say that the United States of America was founded in 1776 with the Declaration of Independence.  Even after the revolutionary war however, it was still unclear whether the former British colonies would be united as a single nation with a strong national government or more loosely connected as a confederation of sovereign states.   \n",
    "\n",
    "In the late 1780s, the US Constitution was written but still needed to be ratified by all 13 states.    The \"Federalist Papers\" were an important series of 85 essays written in support of constitutional ratification.  At the time, the true authors of the essays was unknown because they were published under the name \"PUBLIUS.\"  Later on, it became known that James Madison, John Jay, and Alexander Hamilton wrote the essays.   All of the essays were claimed by one of the authors, but 12 of them were claimed by both Madison and Hamilton and the disputed authorship remained unresolved until the 1960s.\n",
    "\n",
    "In 1963,  Mosteller and Wallace used a Bayesian approach to analyze word counts and determine authorship of the 12 disputed papers.  In this notebook, we will recreate part of their analysis using modern Python tools. Our primary goal is to learn some common python tools for data analysis and to apply conjugate Bayesian inference techniques.\n",
    "\n",
    "The techniques used by Mosteller and Wallace are quite simplistic compared to modern techniques in Natural Language Processing (NLP).  While they are an interesting application of Bayes' rule and are surprising powerful in this context, I would encourage you to check out some of [these tutorials from Kaggle](https://www.kaggle.com/learn/natural-language-processing) if you are interested in a more comtemporary view of NLP.\n",
    "\n",
    "## References\n",
    "1. [Software Carpentries Pandas Lesson](http://swcarpentry.github.io/python-novice-gapminder/08-data-frames/index.html)\n",
    "2. [Federalist Papers on Project Gutenberg](http://www.gutenberg.org/cache/epub/18/pg18.txt)\n",
    "3. [Mosteller and Wallace](https://www.jstor.org/stable/pdf/2283270.pdf?refreqid=excelsior%3A848ccbeffeb905fd3fde6c1140a06bf7)\n",
    "\n",
    "## The Data\n",
    "\n",
    "Trick: use `shift+tab` when your cursor is on a function to get details about the arguments."
   ]
  },
  {
   "cell_type": "code",
   "execution_count": 1,
   "metadata": {},
   "outputs": [],
   "source": [
    "%matplotlib inline\n",
    "import matplotlib.pyplot as plt\n",
    "import pandas as pd"
   ]
  },
  {
   "cell_type": "code",
   "execution_count": 2,
   "metadata": {},
   "outputs": [],
   "source": [
    "df = pd.read_csv('PaperWordCounts.csv')"
   ]
  },
  {
   "cell_type": "code",
   "execution_count": 3,
   "metadata": {},
   "outputs": [
    {
     "data": {
      "text/html": [
       "<div>\n",
       "<style scoped>\n",
       "    .dataframe tbody tr th:only-of-type {\n",
       "        vertical-align: middle;\n",
       "    }\n",
       "\n",
       "    .dataframe tbody tr th {\n",
       "        vertical-align: top;\n",
       "    }\n",
       "\n",
       "    .dataframe thead th {\n",
       "        text-align: right;\n",
       "    }\n",
       "</style>\n",
       "<table border=\"1\" class=\"dataframe\">\n",
       "  <thead>\n",
       "    <tr style=\"text-align: right;\">\n",
       "      <th></th>\n",
       "      <th>Author</th>\n",
       "      <th>from_count</th>\n",
       "      <th>by_count</th>\n",
       "      <th>Length</th>\n",
       "      <th>upon_count</th>\n",
       "      <th>to_count</th>\n",
       "      <th>ID</th>\n",
       "    </tr>\n",
       "  </thead>\n",
       "  <tbody>\n",
       "    <tr>\n",
       "      <th>0</th>\n",
       "      <td>HAMILTON</td>\n",
       "      <td>11</td>\n",
       "      <td>14</td>\n",
       "      <td>1583</td>\n",
       "      <td>6</td>\n",
       "      <td>71</td>\n",
       "      <td>1</td>\n",
       "    </tr>\n",
       "    <tr>\n",
       "      <th>1</th>\n",
       "      <td>JAY</td>\n",
       "      <td>4</td>\n",
       "      <td>10</td>\n",
       "      <td>1662</td>\n",
       "      <td>1</td>\n",
       "      <td>64</td>\n",
       "      <td>2</td>\n",
       "    </tr>\n",
       "    <tr>\n",
       "      <th>2</th>\n",
       "      <td>JAY</td>\n",
       "      <td>15</td>\n",
       "      <td>18</td>\n",
       "      <td>1438</td>\n",
       "      <td>0</td>\n",
       "      <td>63</td>\n",
       "      <td>3</td>\n",
       "    </tr>\n",
       "    <tr>\n",
       "      <th>3</th>\n",
       "      <td>JAY</td>\n",
       "      <td>7</td>\n",
       "      <td>16</td>\n",
       "      <td>1626</td>\n",
       "      <td>0</td>\n",
       "      <td>67</td>\n",
       "      <td>4</td>\n",
       "    </tr>\n",
       "    <tr>\n",
       "      <th>4</th>\n",
       "      <td>JAY</td>\n",
       "      <td>10</td>\n",
       "      <td>10</td>\n",
       "      <td>1337</td>\n",
       "      <td>0</td>\n",
       "      <td>50</td>\n",
       "      <td>5</td>\n",
       "    </tr>\n",
       "  </tbody>\n",
       "</table>\n",
       "</div>"
      ],
      "text/plain": [
       "     Author  from_count  by_count  Length  upon_count  to_count  ID\n",
       "0  HAMILTON          11        14    1583           6        71   1\n",
       "1       JAY           4        10    1662           1        64   2\n",
       "2       JAY          15        18    1438           0        63   3\n",
       "3       JAY           7        16    1626           0        67   4\n",
       "4       JAY          10        10    1337           0        50   5"
      ]
     },
     "execution_count": 3,
     "metadata": {},
     "output_type": "execute_result"
    }
   ],
   "source": [
    "df.head()"
   ]
  },
  {
   "cell_type": "code",
   "execution_count": 4,
   "metadata": {},
   "outputs": [
    {
     "data": {
      "text/plain": [
       "0     1583\n",
       "1     1662\n",
       "2     1438\n",
       "3     1626\n",
       "4     1337\n",
       "      ... \n",
       "80    3781\n",
       "81    1532\n",
       "82    5705\n",
       "83    3925\n",
       "84    2657\n",
       "Name: Length, Length: 85, dtype: int64"
      ]
     },
     "execution_count": 4,
     "metadata": {},
     "output_type": "execute_result"
    }
   ],
   "source": [
    "df['Length']"
   ]
  },
  {
   "cell_type": "code",
   "execution_count": 5,
   "metadata": {},
   "outputs": [
    {
     "data": {
      "text/plain": [
       "Author        HAMILTON\n",
       "from_count          11\n",
       "by_count            14\n",
       "Length            1583\n",
       "upon_count           6\n",
       "to_count            71\n",
       "ID                   1\n",
       "Name: 0, dtype: object"
      ]
     },
     "execution_count": 5,
     "metadata": {},
     "output_type": "execute_result"
    }
   ],
   "source": [
    "df.iloc[0]"
   ]
  },
  {
   "cell_type": "code",
   "execution_count": 6,
   "metadata": {},
   "outputs": [
    {
     "data": {
      "text/plain": [
       "1583"
      ]
     },
     "execution_count": 6,
     "metadata": {},
     "output_type": "execute_result"
    }
   ],
   "source": [
    "df['Length'].iloc[0]"
   ]
  },
  {
   "cell_type": "code",
   "execution_count": 11,
   "metadata": {},
   "outputs": [
    {
     "data": {
      "image/png": "[encoded data removed]",
      "text/plain": [
       "<Figure size 432x288 with 1 Axes>"
      ]
     },
     "metadata": {
      "needs_background": "light"
     },
     "output_type": "display_data"
    }
   ],
   "source": [
    "# Use Pandas to make a histogram of the essay lengths\n",
    "df['Length'].hist()\n",
    "\n",
    "# Set the x and ylabels\n",
    "plt.xlabel('Essay Length', fontsize=16)\n",
    "plt.ylabel('Count', fontsize=16)\n",
    "\n",
    "# Increase the fontsize of the tick labels\n",
    "plt.xticks(fontsize=14)\n",
    "plt.yticks(fontsize=14)\n",
    "plt.show()"
   ]
  },
  {
   "cell_type": "code",
   "execution_count": 19,
   "metadata": {},
   "outputs": [
    {
     "data": {
      "text/html": [
       "<div>\n",
       "<style scoped>\n",
       "    .dataframe tbody tr th:only-of-type {\n",
       "        vertical-align: middle;\n",
       "    }\n",
       "\n",
       "    .dataframe tbody tr th {\n",
       "        vertical-align: top;\n",
       "    }\n",
       "\n",
       "    .dataframe thead th {\n",
       "        text-align: right;\n",
       "    }\n",
       "</style>\n",
       "<table border=\"1\" class=\"dataframe\">\n",
       "  <thead>\n",
       "    <tr style=\"text-align: right;\">\n",
       "      <th></th>\n",
       "      <th>Author</th>\n",
       "      <th>from_count</th>\n",
       "      <th>by_count</th>\n",
       "      <th>Length</th>\n",
       "      <th>upon_count</th>\n",
       "      <th>to_count</th>\n",
       "      <th>ID</th>\n",
       "    </tr>\n",
       "  </thead>\n",
       "  <tbody>\n",
       "    <tr>\n",
       "      <th>9</th>\n",
       "      <td>MADISON</td>\n",
       "      <td>10</td>\n",
       "      <td>36</td>\n",
       "      <td>2994</td>\n",
       "      <td>0</td>\n",
       "      <td>125</td>\n",
       "      <td>10</td>\n",
       "    </tr>\n",
       "    <tr>\n",
       "      <th>13</th>\n",
       "      <td>MADISON</td>\n",
       "      <td>11</td>\n",
       "      <td>18</td>\n",
       "      <td>2136</td>\n",
       "      <td>0</td>\n",
       "      <td>80</td>\n",
       "      <td>14</td>\n",
       "    </tr>\n",
       "    <tr>\n",
       "      <th>35</th>\n",
       "      <td>MADISON</td>\n",
       "      <td>19</td>\n",
       "      <td>30</td>\n",
       "      <td>2737</td>\n",
       "      <td>1</td>\n",
       "      <td>100</td>\n",
       "      <td>36</td>\n",
       "    </tr>\n",
       "    <tr>\n",
       "      <th>36</th>\n",
       "      <td>MADISON</td>\n",
       "      <td>19</td>\n",
       "      <td>36</td>\n",
       "      <td>3315</td>\n",
       "      <td>4</td>\n",
       "      <td>141</td>\n",
       "      <td>37</td>\n",
       "    </tr>\n",
       "    <tr>\n",
       "      <th>37</th>\n",
       "      <td>MADISON</td>\n",
       "      <td>22</td>\n",
       "      <td>33</td>\n",
       "      <td>2604</td>\n",
       "      <td>0</td>\n",
       "      <td>102</td>\n",
       "      <td>38</td>\n",
       "    </tr>\n",
       "  </tbody>\n",
       "</table>\n",
       "</div>"
      ],
      "text/plain": [
       "     Author  from_count  by_count  Length  upon_count  to_count  ID\n",
       "9   MADISON          10        36    2994           0       125  10\n",
       "13  MADISON          11        18    2136           0        80  14\n",
       "35  MADISON          19        30    2737           1       100  36\n",
       "36  MADISON          19        36    3315           4       141  37\n",
       "37  MADISON          22        33    2604           0       102  38"
      ]
     },
     "execution_count": 19,
     "metadata": {},
     "output_type": "execute_result"
    }
   ],
   "source": [
    "madison_papers = df.loc[ df['Author']=='MADISON' ]\n",
    "\n",
    "madison_papers.head()"
   ]
  },
  {
   "cell_type": "code",
   "execution_count": 20,
   "metadata": {},
   "outputs": [
    {
     "data": {
      "text/html": [
       "<div>\n",
       "<style scoped>\n",
       "    .dataframe tbody tr th:only-of-type {\n",
       "        vertical-align: middle;\n",
       "    }\n",
       "\n",
       "    .dataframe tbody tr th {\n",
       "        vertical-align: top;\n",
       "    }\n",
       "\n",
       "    .dataframe thead th {\n",
       "        text-align: right;\n",
       "    }\n",
       "</style>\n",
       "<table border=\"1\" class=\"dataframe\">\n",
       "  <thead>\n",
       "    <tr style=\"text-align: right;\">\n",
       "      <th></th>\n",
       "      <th>Author</th>\n",
       "      <th>from_count</th>\n",
       "      <th>by_count</th>\n",
       "      <th>Length</th>\n",
       "      <th>upon_count</th>\n",
       "      <th>to_count</th>\n",
       "      <th>ID</th>\n",
       "    </tr>\n",
       "  </thead>\n",
       "  <tbody>\n",
       "    <tr>\n",
       "      <th>0</th>\n",
       "      <td>HAMILTON</td>\n",
       "      <td>11</td>\n",
       "      <td>14</td>\n",
       "      <td>1583</td>\n",
       "      <td>6</td>\n",
       "      <td>71</td>\n",
       "      <td>1</td>\n",
       "    </tr>\n",
       "    <tr>\n",
       "      <th>5</th>\n",
       "      <td>HAMILTON</td>\n",
       "      <td>13</td>\n",
       "      <td>10</td>\n",
       "      <td>1938</td>\n",
       "      <td>4</td>\n",
       "      <td>69</td>\n",
       "      <td>6</td>\n",
       "    </tr>\n",
       "    <tr>\n",
       "      <th>6</th>\n",
       "      <td>HAMILTON</td>\n",
       "      <td>10</td>\n",
       "      <td>29</td>\n",
       "      <td>2250</td>\n",
       "      <td>11</td>\n",
       "      <td>99</td>\n",
       "      <td>7</td>\n",
       "    </tr>\n",
       "    <tr>\n",
       "      <th>7</th>\n",
       "      <td>HAMILTON</td>\n",
       "      <td>9</td>\n",
       "      <td>11</td>\n",
       "      <td>1986</td>\n",
       "      <td>3</td>\n",
       "      <td>100</td>\n",
       "      <td>8</td>\n",
       "    </tr>\n",
       "    <tr>\n",
       "      <th>8</th>\n",
       "      <td>HAMILTON</td>\n",
       "      <td>6</td>\n",
       "      <td>13</td>\n",
       "      <td>1974</td>\n",
       "      <td>4</td>\n",
       "      <td>82</td>\n",
       "      <td>9</td>\n",
       "    </tr>\n",
       "  </tbody>\n",
       "</table>\n",
       "</div>"
      ],
      "text/plain": [
       "     Author  from_count  by_count  Length  upon_count  to_count  ID\n",
       "0  HAMILTON          11        14    1583           6        71   1\n",
       "5  HAMILTON          13        10    1938           4        69   6\n",
       "6  HAMILTON          10        29    2250          11        99   7\n",
       "7  HAMILTON           9        11    1986           3       100   8\n",
       "8  HAMILTON           6        13    1974           4        82   9"
      ]
     },
     "execution_count": 20,
     "metadata": {},
     "output_type": "execute_result"
    }
   ],
   "source": [
    "hamilton_papers = df.loc[ df['Author']=='HAMILTON' ]\n",
    "hamilton_papers.head()"
   ]
  },
  {
   "cell_type": "markdown",
   "metadata": {},
   "source": [
    "## Formulation\n",
    "Working towards the authorship question, we will first attempt to model the word counts used in known Hamilton essays compared to the word counts used in known Madison essays.  In particular, we will look at the number of \"upon\" counts per 200 words.  Count data like this is commonly modeled using a Poisson random variable, which is what we'll use here.  The Poisson PMF has a single parameter $\\lambda$ and takes the form:\n",
    "\n",
    "$$\n",
    "m(k | \\lambda) = \\frac{\\lambda^k e^{-\\lambda}}{k!}\n",
    "$$\n",
    "\n",
    "The variable $k$ here represents the number of counts of a particular word in a segment of text that is 200 characters long and the parameter $\\lambda$ represents the averate number of word occurences expected.  Of course we don't actually know $\\lambda$ and our goal here is to infer it from the federalist papers text."
   ]
  },
  {
   "cell_type": "markdown",
   "metadata": {},
   "source": [
    "#### Constructing the prior\n",
    "\n",
    "Here we will use a Gamma prior distribution on $\\lambda$.  The Gamma distribution is defined for $\\lambda\\in[0,\\infty)$ and has a density of form\n",
    "\n",
    "$$\n",
    "f(\\lambda) = \\frac{1}{\\Gamma(k)\\theta^k} x^{k-1} e^{-\\frac{x}{\\theta}}\n",
    "$$\n",
    "\n",
    "\n"
   ]
  },
  {
   "cell_type": "markdown",
   "metadata": {},
   "source": [
    "#### Reading the Data\n",
    "This count data has already been generated by the `CreateCSV.py` script and is stored in three different CSV files: \"HamiltonWordCounts.csv\", \"JayWordCounts.csv\", and \"MadisonWordCounts.csv\".   We will read these files using Pandas."
   ]
  },
  {
   "cell_type": "code",
   "execution_count": 24,
   "metadata": {},
   "outputs": [],
   "source": [
    "jay_df = pd.read_csv('JayWordCounts.csv')\n",
    "mad_df = pd.read_csv('MadisonWordCounts.csv')\n",
    "ham_df = pd.read_csv('HamiltonWordCounts.csv')"
   ]
  },
  {
   "cell_type": "code",
   "execution_count": 25,
   "metadata": {},
   "outputs": [
    {
     "data": {
      "text/html": [
       "<div>\n",
       "<style scoped>\n",
       "    .dataframe tbody tr th:only-of-type {\n",
       "        vertical-align: middle;\n",
       "    }\n",
       "\n",
       "    .dataframe tbody tr th {\n",
       "        vertical-align: top;\n",
       "    }\n",
       "\n",
       "    .dataframe thead th {\n",
       "        text-align: right;\n",
       "    }\n",
       "</style>\n",
       "<table border=\"1\" class=\"dataframe\">\n",
       "  <thead>\n",
       "    <tr style=\"text-align: right;\">\n",
       "      <th></th>\n",
       "      <th>upon</th>\n",
       "      <th>to</th>\n",
       "      <th>from</th>\n",
       "      <th>by</th>\n",
       "    </tr>\n",
       "  </thead>\n",
       "  <tbody>\n",
       "    <tr>\n",
       "      <th>0</th>\n",
       "      <td>1</td>\n",
       "      <td>78</td>\n",
       "      <td>8</td>\n",
       "      <td>10</td>\n",
       "    </tr>\n",
       "    <tr>\n",
       "      <th>1</th>\n",
       "      <td>0</td>\n",
       "      <td>84</td>\n",
       "      <td>15</td>\n",
       "      <td>29</td>\n",
       "    </tr>\n",
       "    <tr>\n",
       "      <th>2</th>\n",
       "      <td>0</td>\n",
       "      <td>72</td>\n",
       "      <td>13</td>\n",
       "      <td>13</td>\n",
       "    </tr>\n",
       "  </tbody>\n",
       "</table>\n",
       "</div>"
      ],
      "text/plain": [
       "   upon  to  from  by\n",
       "0     1  78     8  10\n",
       "1     0  84    15  29\n",
       "2     0  72    13  13"
      ]
     },
     "execution_count": 25,
     "metadata": {},
     "output_type": "execute_result"
    }
   ],
   "source": [
    "jay_df.head()"
   ]
  },
  {
   "cell_type": "code",
   "execution_count": 26,
   "metadata": {},
   "outputs": [
    {
     "data": {
      "text/html": [
       "<div>\n",
       "<style scoped>\n",
       "    .dataframe tbody tr th:only-of-type {\n",
       "        vertical-align: middle;\n",
       "    }\n",
       "\n",
       "    .dataframe tbody tr th {\n",
       "        vertical-align: top;\n",
       "    }\n",
       "\n",
       "    .dataframe thead th {\n",
       "        text-align: right;\n",
       "    }\n",
       "</style>\n",
       "<table border=\"1\" class=\"dataframe\">\n",
       "  <thead>\n",
       "    <tr style=\"text-align: right;\">\n",
       "      <th></th>\n",
       "      <th>upon</th>\n",
       "      <th>to</th>\n",
       "      <th>from</th>\n",
       "      <th>by</th>\n",
       "    </tr>\n",
       "  </thead>\n",
       "  <tbody>\n",
       "    <tr>\n",
       "      <th>0</th>\n",
       "      <td>0</td>\n",
       "      <td>85</td>\n",
       "      <td>9</td>\n",
       "      <td>23</td>\n",
       "    </tr>\n",
       "    <tr>\n",
       "      <th>1</th>\n",
       "      <td>0</td>\n",
       "      <td>74</td>\n",
       "      <td>9</td>\n",
       "      <td>22</td>\n",
       "    </tr>\n",
       "    <tr>\n",
       "      <th>2</th>\n",
       "      <td>1</td>\n",
       "      <td>81</td>\n",
       "      <td>7</td>\n",
       "      <td>18</td>\n",
       "    </tr>\n",
       "    <tr>\n",
       "      <th>3</th>\n",
       "      <td>0</td>\n",
       "      <td>67</td>\n",
       "      <td>15</td>\n",
       "      <td>23</td>\n",
       "    </tr>\n",
       "    <tr>\n",
       "      <th>4</th>\n",
       "      <td>2</td>\n",
       "      <td>74</td>\n",
       "      <td>13</td>\n",
       "      <td>24</td>\n",
       "    </tr>\n",
       "  </tbody>\n",
       "</table>\n",
       "</div>"
      ],
      "text/plain": [
       "   upon  to  from  by\n",
       "0     0  85     9  23\n",
       "1     0  74     9  22\n",
       "2     1  81     7  18\n",
       "3     0  67    15  23\n",
       "4     2  74    13  24"
      ]
     },
     "execution_count": 26,
     "metadata": {},
     "output_type": "execute_result"
    }
   ],
   "source": [
    "mad_df.head()"
   ]
  },
  {
   "cell_type": "code",
   "execution_count": 27,
   "metadata": {},
   "outputs": [
    {
     "data": {
      "text/html": [
       "<div>\n",
       "<style scoped>\n",
       "    .dataframe tbody tr th:only-of-type {\n",
       "        vertical-align: middle;\n",
       "    }\n",
       "\n",
       "    .dataframe tbody tr th {\n",
       "        vertical-align: top;\n",
       "    }\n",
       "\n",
       "    .dataframe thead th {\n",
       "        text-align: right;\n",
       "    }\n",
       "</style>\n",
       "<table border=\"1\" class=\"dataframe\">\n",
       "  <thead>\n",
       "    <tr style=\"text-align: right;\">\n",
       "      <th></th>\n",
       "      <th>upon</th>\n",
       "      <th>to</th>\n",
       "      <th>from</th>\n",
       "      <th>by</th>\n",
       "    </tr>\n",
       "  </thead>\n",
       "  <tbody>\n",
       "    <tr>\n",
       "      <th>0</th>\n",
       "      <td>7</td>\n",
       "      <td>82</td>\n",
       "      <td>14</td>\n",
       "      <td>15</td>\n",
       "    </tr>\n",
       "    <tr>\n",
       "      <th>1</th>\n",
       "      <td>6</td>\n",
       "      <td>77</td>\n",
       "      <td>11</td>\n",
       "      <td>14</td>\n",
       "    </tr>\n",
       "    <tr>\n",
       "      <th>2</th>\n",
       "      <td>8</td>\n",
       "      <td>88</td>\n",
       "      <td>9</td>\n",
       "      <td>24</td>\n",
       "    </tr>\n",
       "    <tr>\n",
       "      <th>3</th>\n",
       "      <td>3</td>\n",
       "      <td>101</td>\n",
       "      <td>11</td>\n",
       "      <td>13</td>\n",
       "    </tr>\n",
       "    <tr>\n",
       "      <th>4</th>\n",
       "      <td>4</td>\n",
       "      <td>80</td>\n",
       "      <td>5</td>\n",
       "      <td>11</td>\n",
       "    </tr>\n",
       "  </tbody>\n",
       "</table>\n",
       "</div>"
      ],
      "text/plain": [
       "   upon   to  from  by\n",
       "0     7   82    14  15\n",
       "1     6   77    11  14\n",
       "2     8   88     9  24\n",
       "3     3  101    11  13\n",
       "4     4   80     5  11"
      ]
     },
     "execution_count": 27,
     "metadata": {},
     "output_type": "execute_result"
    }
   ],
   "source": [
    "ham_df.head()"
   ]
  },
  {
   "cell_type": "code",
   "execution_count": null,
   "metadata": {},
   "outputs": [],
   "source": []
  }
 ],
 "metadata": {
  "kernelspec": {
   "display_name": "Python 3",
   "language": "python",
   "name": "python3"
  },
  "language_info": {
   "codemirror_mode": {
    "name": "ipython",
    "version": 3
   },
   "file_extension": ".py",
   "mimetype": "text/x-python",
   "name": "python",
   "nbconvert_exporter": "python",
   "pygments_lexer": "ipython3",
   "version": "3.7.3"
  }
 },
 "nbformat": 4,
 "nbformat_minor": 4
}
